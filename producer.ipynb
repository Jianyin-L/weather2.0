{
 "cells": [
  {
   "cell_type": "markdown",
   "metadata": {},
   "source": [
    "# Weather in Australia (Data Stream Version)"
   ]
  },
  {
   "cell_type": "markdown",
   "metadata": {},
   "source": [
    "## Perth Weather Producer"
   ]
  },
  {
   "cell_type": "markdown",
   "metadata": {},
   "source": [
    "To simulate a data stream, *0.json* will be loop through and the Perth Weather Producer will publish the temperature data every 5 seconds.  \n",
    "\n",
    "The datetime is being replaced with time, such as 0:00, 1:00 and so on. "
   ]
  },
  {
   "cell_type": "code",
   "execution_count": 6,
   "metadata": {},
   "outputs": [],
   "source": []
  },
  {
   "cell_type": "code",
   "execution_count": 23,
   "metadata": {
    "scrolled": false
   },
   "outputs": [
    {
     "name": "stdout",
     "output_type": "stream",
     "text": [
      "Publishing records..\n",
      "{'LocalObservationDateTime': '2022-08-03T10:55:00+08:00', 'EpochTime': 1659495300, 'WeatherText': ' tHuNdershOwEr ', 'WeatherIcon': 15, 'HasPrecipitation': True, 'PrecipitationType': 'Rain', 'IsDayTime': True, 'Temperature': {'Metric': {'Value': 15.0, 'Unit': 'C', 'UnitType': 17}, 'Imperial': {'Value': 59.0, 'Unit': 'F', 'UnitType': 18}}, 'city': ' PeRTH ', 'Time': '14:48:04'}\n",
      "\n",
      "\n",
      "{'LocalObservationDateTime': '2022-08-03T12:00:00+08:00', 'EpochTime': 1659499200, 'WeatherText': ' liGHt RAIn sHOweR ', 'WeatherIcon': 12, 'HasPrecipitation': True, 'PrecipitationType': 'Rain', 'IsDayTime': True, 'Temperature': {'Metric': {'Value': 12.8, 'Unit': 'C', 'UnitType': 17}, 'Imperial': {'Value': 55.0, 'Unit': 'F', 'UnitType': 18}}, 'city': ' PerTH ', 'Time': '14:48:05'}\n",
      "\n",
      "\n",
      "{'LocalObservationDateTime': '2022-08-03T12:55:00+08:00', 'EpochTime': 1659502500, 'WeatherText': ' ParTLY sUNNy ', 'WeatherIcon': 3, 'HasPrecipitation': False, 'PrecipitationType': None, 'IsDayTime': True, 'Temperature': {'Metric': {'Value': 16.1, 'Unit': 'C', 'UnitType': 17}, 'Imperial': {'Value': 61.0, 'Unit': 'F', 'UnitType': 18}}, 'city': ' perTH ', 'Time': '14:48:06'}\n",
      "\n",
      "\n",
      "{'LocalObservationDateTime': '2022-08-03T13:55:00+08:00', 'EpochTime': 1659506100, 'WeatherText': ' MOstly cLoUdY ', 'WeatherIcon': 6, 'HasPrecipitation': False, 'PrecipitationType': None, 'IsDayTime': True, 'Temperature': {'Metric': {'Value': 13.9, 'Unit': 'C', 'UnitType': 17}, 'Imperial': {'Value': 57.0, 'Unit': 'F', 'UnitType': 18}}, 'city': ' PERtH ', 'Time': '14:48:07'}\n",
      "\n",
      "\n",
      "{'LocalObservationDateTime': '2022-08-03T15:00:00+08:00', 'EpochTime': 1659510000, 'WeatherText': ' ClOuDy ', 'WeatherIcon': 7, 'HasPrecipitation': False, 'PrecipitationType': None, 'IsDayTime': True, 'Temperature': {'Metric': {'Value': 15.0, 'Unit': 'C', 'UnitType': 17}, 'Imperial': {'Value': 59.0, 'Unit': 'F', 'UnitType': 18}}, 'city': ' peRtH ', 'Time': '14:48:08'}\n",
      "\n",
      "\n"
     ]
    },
    {
     "ename": "KeyboardInterrupt",
     "evalue": "",
     "output_type": "error",
     "traceback": [
      "\u001b[0;31m---------------------------------------------------------------------------\u001b[0m",
      "\u001b[0;31mKeyboardInterrupt\u001b[0m                         Traceback (most recent call last)",
      "\u001b[0;32m<ipython-input-23-406250b37d20>\u001b[0m in \u001b[0;36m<module>\u001b[0;34m\u001b[0m\n\u001b[1;32m     66\u001b[0m             \u001b[0mstart_index\u001b[0m \u001b[0;34m=\u001b[0m \u001b[0mlen\u001b[0m\u001b[0;34m(\u001b[0m\u001b[0mdata\u001b[0m\u001b[0;34m)\u001b[0m \u001b[0;34m-\u001b[0m \u001b[0;36m1\u001b[0m\u001b[0;34m\u001b[0m\u001b[0;34m\u001b[0m\u001b[0m\n\u001b[1;32m     67\u001b[0m \u001b[0;34m\u001b[0m\u001b[0m\n\u001b[0;32m---> 68\u001b[0;31m         \u001b[0msleep\u001b[0m\u001b[0;34m(\u001b[0m\u001b[0;36m1\u001b[0m\u001b[0;34m)\u001b[0m\u001b[0;34m\u001b[0m\u001b[0;34m\u001b[0m\u001b[0m\n\u001b[0m\u001b[1;32m     69\u001b[0m \u001b[0;34m\u001b[0m\u001b[0m\n",
      "\u001b[0;31mKeyboardInterrupt\u001b[0m: "
     ]
    }
   ],
   "source": [
    "# import statements\n",
    "from time import sleep\n",
    "from json import dumps\n",
    "import json\n",
    "from kafka import KafkaProducer\n",
    "import datetime as dt\n",
    "import os\n",
    "\n",
    "def publish_message(producer_instance, topic_name, data):\n",
    "    try:\n",
    "        producer_instance.send(topic_name, data)\n",
    "        #print('Message published successfully. Data: ' + str(data))\n",
    "    except Exception as ex:\n",
    "        print('Exception in publishing message.')\n",
    "        print(str(ex))\n",
    "        \n",
    "def connect_kafka_producer():\n",
    "    _producer = None\n",
    "    try:\n",
    "        _producer = KafkaProducer(bootstrap_servers=['localhost:9092'],\n",
    "                                  value_serializer=lambda x: dumps(x).encode('ascii'),\n",
    "                                  api_version=(0, 10))\n",
    "    except Exception as ex:\n",
    "        print('Exception while connecting Kafka.')\n",
    "        print(str(ex))\n",
    "    finally:\n",
    "        return _producer\n",
    "    \n",
    "\n",
    "\n",
    "def read_file(path):\n",
    "    \n",
    "    with open (path, \"r\") as f:\n",
    "        data = json.load(f)\n",
    "        \n",
    "    return data\n",
    "    \n",
    "if __name__ == '__main__':\n",
    "    \n",
    "    # Specify the location\n",
    "    input_location = \"dataset\"\n",
    "\n",
    "    file_path = os.path.join(os.getcwd(), input_location, \"0.json\")\n",
    "   \n",
    "    topic = 'Perth'\n",
    "    data = read_file(file_path)\n",
    "    \n",
    "    print('Publishing records..')\n",
    "    producer = connect_kafka_producer()\n",
    "    \n",
    "    #sending single object\n",
    "    start_index=len(data) - 1\n",
    "    \n",
    "    while True: \n",
    "\n",
    "        to_be_sent = data[start_index]\n",
    "        to_be_sent[\"Time\"] = dt.datetime.now().strftime(\"%X\")\n",
    "        \n",
    "        publish_message(producer, topic, to_be_sent)\n",
    "        print(to_be_sent)\n",
    "        print(\"\\n\")\n",
    "        \n",
    "        start_index -= 1\n",
    "        \n",
    "        if start_index == 0: \n",
    "            start_index = len(data) - 1\n",
    "        \n",
    "        sleep(1)\n",
    "        "
   ]
  },
  {
   "cell_type": "code",
   "execution_count": null,
   "metadata": {},
   "outputs": [],
   "source": []
  },
  {
   "cell_type": "code",
   "execution_count": null,
   "metadata": {},
   "outputs": [],
   "source": []
  },
  {
   "cell_type": "code",
   "execution_count": null,
   "metadata": {},
   "outputs": [],
   "source": []
  },
  {
   "cell_type": "code",
   "execution_count": null,
   "metadata": {},
   "outputs": [],
   "source": []
  },
  {
   "cell_type": "code",
   "execution_count": null,
   "metadata": {},
   "outputs": [],
   "source": []
  },
  {
   "cell_type": "code",
   "execution_count": null,
   "metadata": {},
   "outputs": [],
   "source": []
  }
 ],
 "metadata": {
  "kernelspec": {
   "display_name": "Python 3",
   "language": "python",
   "name": "python3"
  },
  "language_info": {
   "codemirror_mode": {
    "name": "ipython",
    "version": 3
   },
   "file_extension": ".py",
   "mimetype": "text/x-python",
   "name": "python",
   "nbconvert_exporter": "python",
   "pygments_lexer": "ipython3",
   "version": "3.8.2"
  }
 },
 "nbformat": 4,
 "nbformat_minor": 4
}
