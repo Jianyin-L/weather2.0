{
 "cells": [
  {
   "cell_type": "markdown",
   "metadata": {},
   "source": [
    "# Perth Weather Consumer - CSV"
   ]
  },
  {
   "cell_type": "markdown",
   "metadata": {},
   "source": [
    "The following consumer will consumer the message and output two csvs: \n",
    "1. The average temperature in Perth over the past x hours\n",
    "2. THe top 3 frequent weather text in Perth over the past x hours.\n",
    "\n",
    "### Table of Content: \n",
    "* [Initialisation](#ONE)\n",
    "* [Extract data from the stream](#TWO)\n",
    "* [Transform the dataset](#THREE)\n",
    "* [Load the dataset for data analysis](#FOUR)\n",
    "* [Output result to CSV](#FIVE)\n"
   ]
  },
  {
   "cell_type": "markdown",
   "metadata": {},
   "source": [
    "## Initialisation<a class=\"anchor\" id=\"ONE\"></a>\n",
    "Initialise the pyspark session and import libraries"
   ]
  },
  {
   "cell_type": "code",
   "execution_count": 1,
   "metadata": {},
   "outputs": [],
   "source": [
    "import os\n",
    "os.environ['PYSPARK_SUBMIT_ARGS'] = '--packages org.apache.spark:spark-streaming-kafka-0-10_2.12:3.0.0,org.apache.spark:spark-sql-kafka-0-10_2.12:3.0.0 pyspark-shell'\n",
    "\n",
    "from pyspark.sql import SparkSession\n",
    "from pyspark.sql.functions import explode\n",
    "from pyspark.sql import functions as F\n",
    "from pyspark.sql.types import *\n",
    "from pyspark.sql.window import Window\n",
    "from time import sleep\n",
    "\n",
    "spark = SparkSession \\\n",
    "    .builder \\\n",
    "    .appName(\"Weather Analysis\") \\\n",
    "    .getOrCreate()"
   ]
  },
  {
   "cell_type": "code",
   "execution_count": 2,
   "metadata": {},
   "outputs": [],
   "source": [
    "# Specify configuration and location\n",
    "time_window = \"12 seconds\"\n",
    "watermark = \"6 seconds\"\n",
    "output_location = os.path.join(os.getcwd(), \"result\")\n",
    "\n",
    "if not os.path.exists(output_location):\n",
    "    os.makedirs(output_location)"
   ]
  },
  {
   "cell_type": "markdown",
   "metadata": {},
   "source": [
    "## Extract data from the stream<a class=\"anchor\" id=\"TWO\"></a>\n",
    "Subscribe to the topic and load the data from the stream "
   ]
  },
  {
   "cell_type": "code",
   "execution_count": 3,
   "metadata": {},
   "outputs": [],
   "source": [
    "topic = \"Perth\"\n",
    "\n",
    "df = spark \\\n",
    "    .readStream \\\n",
    "    .format(\"kafka\") \\\n",
    "    .option(\"kafka.bootstrap.servers\", \"127.0.0.1:9092\") \\\n",
    "    .option(\"subscribe\", topic) \\\n",
    "    .load()"
   ]
  },
  {
   "cell_type": "code",
   "execution_count": 4,
   "metadata": {},
   "outputs": [
    {
     "name": "stdout",
     "output_type": "stream",
     "text": [
      "root\n",
      " |-- key: binary (nullable = true)\n",
      " |-- value: binary (nullable = true)\n",
      " |-- topic: string (nullable = true)\n",
      " |-- partition: integer (nullable = true)\n",
      " |-- offset: long (nullable = true)\n",
      " |-- timestamp: timestamp (nullable = true)\n",
      " |-- timestampType: integer (nullable = true)\n",
      "\n"
     ]
    }
   ],
   "source": [
    "df.printSchema()"
   ]
  },
  {
   "cell_type": "markdown",
   "metadata": {},
   "source": [
    "## Transform the dataset<a class=\"anchor\" id=\"THREE\"></a>\n",
    "Transform the dataset based on requirepments for analytical usage.  \n",
    "\n",
    "Steps: \n",
    "* [1 Convert the key/value from the kafka data stream to string](#1)\n",
    "* [2 Cast dataframe based on the schema](#2)\n",
    "* [3. Remove nested structure of the temperature](#3)\n",
    "* [4. Focuse on the temperature in Celsius](#4)\n",
    "* [5. Continue removing nested structure of the temperature](#5)\n",
    "* [6. Remove unwanted rows](#6)\n",
    "* [7. Rename and change the data type of the temperature column](#7)\n",
    "* [8. Data Wrangling](#8)"
   ]
  },
  {
   "cell_type": "markdown",
   "metadata": {},
   "source": [
    "### 1. Convert the key/value from the kafka data stream to string<a class=\"anchor\" id=\"1\"></a>"
   ]
  },
  {
   "cell_type": "code",
   "execution_count": 5,
   "metadata": {},
   "outputs": [],
   "source": [
    "df = df.selectExpr(\"CAST(key AS STRING)\", \"CAST(value AS STRING)\")"
   ]
  },
  {
   "cell_type": "code",
   "execution_count": 6,
   "metadata": {},
   "outputs": [
    {
     "name": "stdout",
     "output_type": "stream",
     "text": [
      "root\n",
      " |-- key: string (nullable = true)\n",
      " |-- value: string (nullable = true)\n",
      "\n"
     ]
    }
   ],
   "source": [
    "df.printSchema()"
   ]
  },
  {
   "cell_type": "markdown",
   "metadata": {},
   "source": [
    "### 2. Cast dataframe based on the schema<a class=\"anchor\" id=\"2\"></a>"
   ]
  },
  {
   "cell_type": "code",
   "execution_count": 7,
   "metadata": {},
   "outputs": [],
   "source": [
    "schema = StructType([\n",
    "    StructField(\"Time\", TimestampType(), True), \n",
    "    StructField(\"city\", StringType(), True), \n",
    "    StructField(\"WeatherText\", StringType(), True),\n",
    "    StructField(\"Temperature\", MapType(StringType(), MapType(StringType(), StringType())), True)        \n",
    "])\n",
    "\n",
    "df1=df.select(F.from_json(F.col(\"value\").cast(\"string\"), schema).alias('parsed_value'))"
   ]
  },
  {
   "cell_type": "code",
   "execution_count": 8,
   "metadata": {},
   "outputs": [
    {
     "name": "stdout",
     "output_type": "stream",
     "text": [
      "root\n",
      " |-- parsed_value: struct (nullable = true)\n",
      " |    |-- Time: timestamp (nullable = true)\n",
      " |    |-- city: string (nullable = true)\n",
      " |    |-- WeatherText: string (nullable = true)\n",
      " |    |-- Temperature: map (nullable = true)\n",
      " |    |    |-- key: string\n",
      " |    |    |-- value: map (valueContainsNull = true)\n",
      " |    |    |    |-- key: string\n",
      " |    |    |    |-- value: string (valueContainsNull = true)\n",
      "\n"
     ]
    }
   ],
   "source": [
    "df1.printSchema()"
   ]
  },
  {
   "cell_type": "markdown",
   "metadata": {},
   "source": [
    "### 3. Remove nested structure of the temperature<a class=\"anchor\" id=\"3\"></a>"
   ]
  },
  {
   "cell_type": "code",
   "execution_count": 9,
   "metadata": {},
   "outputs": [],
   "source": [
    "df2 = df1.select(\n",
    "    F.col(\"parsed_value.Time\").alias(\"Time\"),\n",
    "    F.col(\"parsed_value.city\").alias(\"City\"),\n",
    "    F.col(\"parsed_value.WeatherText\").alias(\"WeatherText\"),\n",
    "    explode(\"parsed_value.Temperature\")\n",
    ")"
   ]
  },
  {
   "cell_type": "code",
   "execution_count": 10,
   "metadata": {},
   "outputs": [
    {
     "name": "stdout",
     "output_type": "stream",
     "text": [
      "root\n",
      " |-- Time: timestamp (nullable = true)\n",
      " |-- City: string (nullable = true)\n",
      " |-- WeatherText: string (nullable = true)\n",
      " |-- key: string (nullable = false)\n",
      " |-- value: map (nullable = true)\n",
      " |    |-- key: string\n",
      " |    |-- value: string (valueContainsNull = true)\n",
      "\n"
     ]
    }
   ],
   "source": [
    "df2.printSchema()"
   ]
  },
  {
   "cell_type": "markdown",
   "metadata": {},
   "source": [
    "### 4. Focuse on the temperature in Celsius<a class=\"anchor\" id=\"4\"></a>\n",
    "Here, I only focus on the temperature in Celsius"
   ]
  },
  {
   "cell_type": "code",
   "execution_count": 11,
   "metadata": {},
   "outputs": [],
   "source": [
    "df3 = df2.filter(df2.key == \"Metric\")"
   ]
  },
  {
   "cell_type": "markdown",
   "metadata": {},
   "source": [
    "### 5. Continue removing nested structure of the temperature<a class=\"anchor\" id=\"5\"></a>"
   ]
  },
  {
   "cell_type": "code",
   "execution_count": 12,
   "metadata": {},
   "outputs": [],
   "source": [
    "df4 = df3.select(\"Time\", \n",
    "                 \"City\",\n",
    "                 \"WeatherText\",\n",
    "                 explode(\"value\")\n",
    ")"
   ]
  },
  {
   "cell_type": "code",
   "execution_count": 13,
   "metadata": {},
   "outputs": [
    {
     "name": "stdout",
     "output_type": "stream",
     "text": [
      "root\n",
      " |-- Time: timestamp (nullable = true)\n",
      " |-- City: string (nullable = true)\n",
      " |-- WeatherText: string (nullable = true)\n",
      " |-- key: string (nullable = false)\n",
      " |-- value: string (nullable = true)\n",
      "\n"
     ]
    }
   ],
   "source": [
    "df4.printSchema()"
   ]
  },
  {
   "cell_type": "markdown",
   "metadata": {},
   "source": [
    "### 6. Remove unwanted rows<a class=\"anchor\" id=\"6\"></a>\n",
    "We only want the value of the temperature, not the symbol C"
   ]
  },
  {
   "cell_type": "code",
   "execution_count": 14,
   "metadata": {},
   "outputs": [],
   "source": [
    "df5 = df4.filter(df4.key == \"Value\")"
   ]
  },
  {
   "cell_type": "markdown",
   "metadata": {},
   "source": [
    "### 7. Rename and change the data type of the temperature column<a class=\"anchor\" id=\"7\"></a>"
   ]
  },
  {
   "cell_type": "code",
   "execution_count": 15,
   "metadata": {},
   "outputs": [],
   "source": [
    "df6 = df5.select(\"Time\", \n",
    "                 \"City\", \n",
    "                 \"WeatherText\", \n",
    "                 F.col(\"value\").alias(\"TemperatureC\"))\n",
    "\n",
    "df_formatted = df6.withColumn(\"TemperatureC\", df6.TemperatureC.cast(DoubleType()))"
   ]
  },
  {
   "cell_type": "code",
   "execution_count": 16,
   "metadata": {},
   "outputs": [
    {
     "name": "stdout",
     "output_type": "stream",
     "text": [
      "root\n",
      " |-- Time: timestamp (nullable = true)\n",
      " |-- City: string (nullable = true)\n",
      " |-- WeatherText: string (nullable = true)\n",
      " |-- TemperatureC: double (nullable = true)\n",
      "\n"
     ]
    }
   ],
   "source": [
    "df_formatted.printSchema()"
   ]
  },
  {
   "cell_type": "markdown",
   "metadata": {},
   "source": [
    "### 8. Data Wrangling<a class=\"anchor\" id=\"8\"></a>\n",
    "Remove excessive spaces in some of the text columns"
   ]
  },
  {
   "cell_type": "code",
   "execution_count": 17,
   "metadata": {},
   "outputs": [],
   "source": [
    "df_formatted2 = df_formatted.select(\"Time\",\n",
    "                                    F.trim(F.initcap(F.col(\"City\"))).alias(\"City\"), \n",
    "                                    F.trim(F.lower(F.col(\"WeatherText\"))).alias(\"WeatherText\"),\n",
    "                                    F.col(\"TemperatureC\"))"
   ]
  },
  {
   "cell_type": "code",
   "execution_count": 18,
   "metadata": {},
   "outputs": [
    {
     "name": "stdout",
     "output_type": "stream",
     "text": [
      "root\n",
      " |-- Time: timestamp (nullable = true)\n",
      " |-- City: string (nullable = true)\n",
      " |-- WeatherText: string (nullable = true)\n",
      " |-- TemperatureC: double (nullable = true)\n",
      "\n"
     ]
    }
   ],
   "source": [
    "df_formatted2.printSchema()"
   ]
  },
  {
   "cell_type": "markdown",
   "metadata": {},
   "source": [
    "## Load the dataset for data analysis<a class=\"anchor\" id=\"FOUR\"></a>\n",
    "### Average Temperature\n",
    "\n",
    "Every second, the average temperature will be calculated.   \n",
    "Watermark has been set to allow data that is coming late. "
   ]
  },
  {
   "cell_type": "code",
   "execution_count": 19,
   "metadata": {},
   "outputs": [],
   "source": [
    "Avg_temp = df_formatted2\\\n",
    "    .withWatermark(\"Time\", watermark)\\\n",
    "    .groupBy(\"City\", \n",
    "             F.window(df_formatted2.Time, time_window, \"1 second\"))\\\n",
    "    .agg(F.avg(\"TemperatureC\").alias(\"AvgTempC\"))\\\n",
    "    .sort(F.col(\"window\").desc())"
   ]
  },
  {
   "cell_type": "code",
   "execution_count": 20,
   "metadata": {},
   "outputs": [
    {
     "name": "stdout",
     "output_type": "stream",
     "text": [
      "root\n",
      " |-- City: string (nullable = true)\n",
      " |-- window: struct (nullable = true)\n",
      " |    |-- start: timestamp (nullable = true)\n",
      " |    |-- end: timestamp (nullable = true)\n",
      " |-- AvgTempC: double (nullable = true)\n",
      "\n"
     ]
    }
   ],
   "source": [
    "Avg_temp.printSchema()"
   ]
  },
  {
   "cell_type": "code",
   "execution_count": 21,
   "metadata": {},
   "outputs": [],
   "source": [
    "Avg_temp = Avg_temp.withColumn(\"AvgTempC\", F.round(Avg_temp[\"AvgTempC\"], 2))"
   ]
  },
  {
   "cell_type": "code",
   "execution_count": 22,
   "metadata": {},
   "outputs": [],
   "source": [
    "# # Debug purpose\n",
    "# query = Avg_temp \\\n",
    "#     .writeStream \\\n",
    "#     .outputMode(\"complete\") \\\n",
    "#     .format(\"console\") \\\n",
    "#     .trigger(processingTime='12 seconds') \\\n",
    "#     .option(\"truncate\", False) \\\n",
    "#     .start()"
   ]
  },
  {
   "cell_type": "code",
   "execution_count": 23,
   "metadata": {},
   "outputs": [],
   "source": [
    "# query.stop()"
   ]
  },
  {
   "cell_type": "markdown",
   "metadata": {},
   "source": [
    "### Frequent weather text\n",
    "\n",
    "Every second, the frequency of the weather text has been generated.   \n",
    "Watermark has been set to allow data that is coming late. "
   ]
  },
  {
   "cell_type": "code",
   "execution_count": 24,
   "metadata": {},
   "outputs": [],
   "source": [
    "Weather_text = df_formatted2\\\n",
    "    .withWatermark(\"Time\", watermark)\\\n",
    "    .groupBy(\"City\", \n",
    "             \"WeatherText\", \n",
    "             F.window(df_formatted2.Time, time_window, \"1 second\")).agg(\n",
    "    F.count(\"WeatherText\").alias(\"Count\"))"
   ]
  },
  {
   "cell_type": "code",
   "execution_count": 25,
   "metadata": {},
   "outputs": [],
   "source": [
    "Weather_text = Weather_text.sort(\n",
    "    F.col(\"window\").desc(), \n",
    "    F.col(\"Count\").desc())"
   ]
  },
  {
   "cell_type": "code",
   "execution_count": 26,
   "metadata": {},
   "outputs": [],
   "source": [
    "# # Debug purpose\n",
    "# query = Weather_text \\\n",
    "#     .writeStream \\\n",
    "#     .outputMode(\"complete\") \\\n",
    "#     .format(\"console\") \\\n",
    "#     .trigger(processingTime='12 seconds') \\\n",
    "#     .option(\"truncate\", False) \\\n",
    "#     .start()"
   ]
  },
  {
   "cell_type": "code",
   "execution_count": 27,
   "metadata": {},
   "outputs": [],
   "source": [
    "# query.stop()"
   ]
  },
  {
   "cell_type": "code",
   "execution_count": 28,
   "metadata": {},
   "outputs": [
    {
     "name": "stdout",
     "output_type": "stream",
     "text": [
      "root\n",
      " |-- City: string (nullable = true)\n",
      " |-- WeatherText: string (nullable = true)\n",
      " |-- window: struct (nullable = true)\n",
      " |    |-- start: timestamp (nullable = true)\n",
      " |    |-- end: timestamp (nullable = true)\n",
      " |-- Count: long (nullable = false)\n",
      "\n"
     ]
    }
   ],
   "source": [
    "Weather_text.printSchema()"
   ]
  },
  {
   "cell_type": "markdown",
   "metadata": {},
   "source": [
    "## Output result to CSV<a class=\"anchor\" id=\"FIVE\"></a>\n",
    "Once happy with the result, we can output to csv"
   ]
  },
  {
   "cell_type": "markdown",
   "metadata": {},
   "source": [
    "### Average Temperature"
   ]
  },
  {
   "cell_type": "code",
   "execution_count": 35,
   "metadata": {},
   "outputs": [
    {
     "name": "stdout",
     "output_type": "stream",
     "text": [
      "Sleeping...\n",
      "Waking Up...\n"
     ]
    }
   ],
   "source": [
    "query1 = Avg_temp \\\n",
    "    .writeStream \\\n",
    "    .outputMode(\"complete\") \\\n",
    "    .format(\"memory\") \\\n",
    "    .queryName(\"temp_query\") \\\n",
    "    .trigger(processingTime='12 seconds') \\\n",
    "    .start()\n",
    "\n",
    "# To get enough data for our csv\n",
    "print(\"Sleeping...\")\n",
    "sleep(60)\n",
    "print(\"Waking Up...\")\n",
    "\n",
    "query1.stop()"
   ]
  },
  {
   "cell_type": "code",
   "execution_count": 36,
   "metadata": {},
   "outputs": [
    {
     "data": {
      "text/html": [
       "<div>\n",
       "<style scoped>\n",
       "    .dataframe tbody tr th:only-of-type {\n",
       "        vertical-align: middle;\n",
       "    }\n",
       "\n",
       "    .dataframe tbody tr th {\n",
       "        vertical-align: top;\n",
       "    }\n",
       "\n",
       "    .dataframe thead th {\n",
       "        text-align: right;\n",
       "    }\n",
       "</style>\n",
       "<table border=\"1\" class=\"dataframe\">\n",
       "  <thead>\n",
       "    <tr style=\"text-align: right;\">\n",
       "      <th></th>\n",
       "      <th>City</th>\n",
       "      <th>window</th>\n",
       "      <th>AvgTempC</th>\n",
       "    </tr>\n",
       "  </thead>\n",
       "  <tbody>\n",
       "    <tr>\n",
       "      <th>0</th>\n",
       "      <td>Perth</td>\n",
       "      <td>(2022-09-11 19:15:59, 2022-09-11 19:16:11)</td>\n",
       "      <td>15.00</td>\n",
       "    </tr>\n",
       "    <tr>\n",
       "      <th>1</th>\n",
       "      <td>Perth</td>\n",
       "      <td>(2022-09-11 19:15:58, 2022-09-11 19:16:10)</td>\n",
       "      <td>15.55</td>\n",
       "    </tr>\n",
       "    <tr>\n",
       "      <th>2</th>\n",
       "      <td>Perth</td>\n",
       "      <td>(2022-09-11 19:15:57, 2022-09-11 19:16:09)</td>\n",
       "      <td>15.37</td>\n",
       "    </tr>\n",
       "    <tr>\n",
       "      <th>3</th>\n",
       "      <td>Perth</td>\n",
       "      <td>(2022-09-11 19:15:56, 2022-09-11 19:16:08)</td>\n",
       "      <td>15.00</td>\n",
       "    </tr>\n",
       "    <tr>\n",
       "      <th>4</th>\n",
       "      <td>Perth</td>\n",
       "      <td>(2022-09-11 19:15:55, 2022-09-11 19:16:07)</td>\n",
       "      <td>15.22</td>\n",
       "    </tr>\n",
       "    <tr>\n",
       "      <th>5</th>\n",
       "      <td>Perth</td>\n",
       "      <td>(2022-09-11 19:15:54, 2022-09-11 19:16:06)</td>\n",
       "      <td>14.82</td>\n",
       "    </tr>\n",
       "    <tr>\n",
       "      <th>6</th>\n",
       "      <td>Perth</td>\n",
       "      <td>(2022-09-11 19:15:53, 2022-09-11 19:16:05)</td>\n",
       "      <td>14.84</td>\n",
       "    </tr>\n",
       "    <tr>\n",
       "      <th>7</th>\n",
       "      <td>Perth</td>\n",
       "      <td>(2022-09-11 19:15:52, 2022-09-11 19:16:04)</td>\n",
       "      <td>14.51</td>\n",
       "    </tr>\n",
       "    <tr>\n",
       "      <th>8</th>\n",
       "      <td>Perth</td>\n",
       "      <td>(2022-09-11 19:15:51, 2022-09-11 19:16:03)</td>\n",
       "      <td>14.13</td>\n",
       "    </tr>\n",
       "    <tr>\n",
       "      <th>9</th>\n",
       "      <td>Perth</td>\n",
       "      <td>(2022-09-11 19:15:50, 2022-09-11 19:16:02)</td>\n",
       "      <td>13.72</td>\n",
       "    </tr>\n",
       "  </tbody>\n",
       "</table>\n",
       "</div>"
      ],
      "text/plain": [
       "    City                                      window  AvgTempC\n",
       "0  Perth  (2022-09-11 19:15:59, 2022-09-11 19:16:11)     15.00\n",
       "1  Perth  (2022-09-11 19:15:58, 2022-09-11 19:16:10)     15.55\n",
       "2  Perth  (2022-09-11 19:15:57, 2022-09-11 19:16:09)     15.37\n",
       "3  Perth  (2022-09-11 19:15:56, 2022-09-11 19:16:08)     15.00\n",
       "4  Perth  (2022-09-11 19:15:55, 2022-09-11 19:16:07)     15.22\n",
       "5  Perth  (2022-09-11 19:15:54, 2022-09-11 19:16:06)     14.82\n",
       "6  Perth  (2022-09-11 19:15:53, 2022-09-11 19:16:05)     14.84\n",
       "7  Perth  (2022-09-11 19:15:52, 2022-09-11 19:16:04)     14.51\n",
       "8  Perth  (2022-09-11 19:15:51, 2022-09-11 19:16:03)     14.13\n",
       "9  Perth  (2022-09-11 19:15:50, 2022-09-11 19:16:02)     13.72"
      ]
     },
     "execution_count": 36,
     "metadata": {},
     "output_type": "execute_result"
    }
   ],
   "source": [
    "spark.sql(\"SELECT * FROM temp_query limit 10\").toPandas().head(10)"
   ]
  },
  {
   "cell_type": "code",
   "execution_count": 37,
   "metadata": {},
   "outputs": [],
   "source": [
    "spark.sql(\"SELECT * FROM temp_query\").toPandas().to_csv(\n",
    "    os.path.join(output_location, \"avg_temp.csv\"), \n",
    "    index = False)"
   ]
  },
  {
   "cell_type": "markdown",
   "metadata": {},
   "source": [
    "### Top Frequent Weather Text"
   ]
  },
  {
   "cell_type": "code",
   "execution_count": 32,
   "metadata": {},
   "outputs": [
    {
     "name": "stdout",
     "output_type": "stream",
     "text": [
      "Sleeping...\n",
      "Waking Up...\n"
     ]
    }
   ],
   "source": [
    "query2 = Weather_text \\\n",
    "    .writeStream \\\n",
    "    .outputMode(\"complete\") \\\n",
    "    .format(\"memory\") \\\n",
    "    .queryName(\"weather_query\") \\\n",
    "    .trigger(processingTime='12 seconds') \\\n",
    "    .start()\n",
    "\n",
    "# To get enough data for our csv\n",
    "print(\"Sleeping...\")\n",
    "sleep(60)\n",
    "print(\"Waking Up...\")\n",
    "    \n",
    "query2.stop()"
   ]
  },
  {
   "cell_type": "code",
   "execution_count": 33,
   "metadata": {},
   "outputs": [
    {
     "data": {
      "text/html": [
       "<div>\n",
       "<style scoped>\n",
       "    .dataframe tbody tr th:only-of-type {\n",
       "        vertical-align: middle;\n",
       "    }\n",
       "\n",
       "    .dataframe tbody tr th {\n",
       "        vertical-align: top;\n",
       "    }\n",
       "\n",
       "    .dataframe thead th {\n",
       "        text-align: right;\n",
       "    }\n",
       "</style>\n",
       "<table border=\"1\" class=\"dataframe\">\n",
       "  <thead>\n",
       "    <tr style=\"text-align: right;\">\n",
       "      <th></th>\n",
       "      <th>City</th>\n",
       "      <th>WeatherText</th>\n",
       "      <th>window</th>\n",
       "      <th>Count</th>\n",
       "    </tr>\n",
       "  </thead>\n",
       "  <tbody>\n",
       "    <tr>\n",
       "      <th>0</th>\n",
       "      <td>Perth</td>\n",
       "      <td>cloudy</td>\n",
       "      <td>(2022-09-11 19:09:13, 2022-09-11 19:09:25)</td>\n",
       "      <td>1</td>\n",
       "    </tr>\n",
       "    <tr>\n",
       "      <th>1</th>\n",
       "      <td>Perth</td>\n",
       "      <td>cloudy</td>\n",
       "      <td>(2022-09-11 19:09:12, 2022-09-11 19:09:24)</td>\n",
       "      <td>1</td>\n",
       "    </tr>\n",
       "    <tr>\n",
       "      <th>2</th>\n",
       "      <td>Perth</td>\n",
       "      <td>rain shower</td>\n",
       "      <td>(2022-09-11 19:09:12, 2022-09-11 19:09:24)</td>\n",
       "      <td>1</td>\n",
       "    </tr>\n",
       "    <tr>\n",
       "      <th>3</th>\n",
       "      <td>Perth</td>\n",
       "      <td>cloudy</td>\n",
       "      <td>(2022-09-11 19:09:11, 2022-09-11 19:09:23)</td>\n",
       "      <td>2</td>\n",
       "    </tr>\n",
       "    <tr>\n",
       "      <th>4</th>\n",
       "      <td>Perth</td>\n",
       "      <td>rain shower</td>\n",
       "      <td>(2022-09-11 19:09:11, 2022-09-11 19:09:23)</td>\n",
       "      <td>1</td>\n",
       "    </tr>\n",
       "    <tr>\n",
       "      <th>5</th>\n",
       "      <td>Perth</td>\n",
       "      <td>cloudy</td>\n",
       "      <td>(2022-09-11 19:09:10, 2022-09-11 19:09:22)</td>\n",
       "      <td>2</td>\n",
       "    </tr>\n",
       "    <tr>\n",
       "      <th>6</th>\n",
       "      <td>Perth</td>\n",
       "      <td>rain shower</td>\n",
       "      <td>(2022-09-11 19:09:10, 2022-09-11 19:09:22)</td>\n",
       "      <td>1</td>\n",
       "    </tr>\n",
       "    <tr>\n",
       "      <th>7</th>\n",
       "      <td>Perth</td>\n",
       "      <td>heavy rain shower</td>\n",
       "      <td>(2022-09-11 19:09:10, 2022-09-11 19:09:22)</td>\n",
       "      <td>1</td>\n",
       "    </tr>\n",
       "    <tr>\n",
       "      <th>8</th>\n",
       "      <td>Perth</td>\n",
       "      <td>cloudy</td>\n",
       "      <td>(2022-09-11 19:09:09, 2022-09-11 19:09:21)</td>\n",
       "      <td>2</td>\n",
       "    </tr>\n",
       "    <tr>\n",
       "      <th>9</th>\n",
       "      <td>Perth</td>\n",
       "      <td>light rain shower</td>\n",
       "      <td>(2022-09-11 19:09:09, 2022-09-11 19:09:21)</td>\n",
       "      <td>1</td>\n",
       "    </tr>\n",
       "    <tr>\n",
       "      <th>10</th>\n",
       "      <td>Perth</td>\n",
       "      <td>heavy rain shower</td>\n",
       "      <td>(2022-09-11 19:09:09, 2022-09-11 19:09:21)</td>\n",
       "      <td>1</td>\n",
       "    </tr>\n",
       "    <tr>\n",
       "      <th>11</th>\n",
       "      <td>Perth</td>\n",
       "      <td>cloudy</td>\n",
       "      <td>(2022-09-11 19:09:08, 2022-09-11 19:09:20)</td>\n",
       "      <td>2</td>\n",
       "    </tr>\n",
       "    <tr>\n",
       "      <th>12</th>\n",
       "      <td>Perth</td>\n",
       "      <td>light rain shower</td>\n",
       "      <td>(2022-09-11 19:09:08, 2022-09-11 19:09:20)</td>\n",
       "      <td>2</td>\n",
       "    </tr>\n",
       "    <tr>\n",
       "      <th>13</th>\n",
       "      <td>Perth</td>\n",
       "      <td>heavy rain shower</td>\n",
       "      <td>(2022-09-11 19:09:08, 2022-09-11 19:09:20)</td>\n",
       "      <td>1</td>\n",
       "    </tr>\n",
       "    <tr>\n",
       "      <th>14</th>\n",
       "      <td>Perth</td>\n",
       "      <td>cloudy</td>\n",
       "      <td>(2022-09-11 19:09:07, 2022-09-11 19:09:19)</td>\n",
       "      <td>2</td>\n",
       "    </tr>\n",
       "    <tr>\n",
       "      <th>15</th>\n",
       "      <td>Perth</td>\n",
       "      <td>light rain shower</td>\n",
       "      <td>(2022-09-11 19:09:07, 2022-09-11 19:09:19)</td>\n",
       "      <td>2</td>\n",
       "    </tr>\n",
       "    <tr>\n",
       "      <th>16</th>\n",
       "      <td>Perth</td>\n",
       "      <td>rain shower</td>\n",
       "      <td>(2022-09-11 19:09:07, 2022-09-11 19:09:19)</td>\n",
       "      <td>1</td>\n",
       "    </tr>\n",
       "    <tr>\n",
       "      <th>17</th>\n",
       "      <td>Perth</td>\n",
       "      <td>cloudy</td>\n",
       "      <td>(2022-09-11 19:09:06, 2022-09-11 19:09:18)</td>\n",
       "      <td>3</td>\n",
       "    </tr>\n",
       "    <tr>\n",
       "      <th>18</th>\n",
       "      <td>Perth</td>\n",
       "      <td>light rain shower</td>\n",
       "      <td>(2022-09-11 19:09:06, 2022-09-11 19:09:18)</td>\n",
       "      <td>2</td>\n",
       "    </tr>\n",
       "    <tr>\n",
       "      <th>19</th>\n",
       "      <td>Perth</td>\n",
       "      <td>heavy rain shower</td>\n",
       "      <td>(2022-09-11 19:09:06, 2022-09-11 19:09:18)</td>\n",
       "      <td>1</td>\n",
       "    </tr>\n",
       "    <tr>\n",
       "      <th>20</th>\n",
       "      <td>Perth</td>\n",
       "      <td>cloudy</td>\n",
       "      <td>(2022-09-11 19:09:05, 2022-09-11 19:09:17)</td>\n",
       "      <td>3</td>\n",
       "    </tr>\n",
       "    <tr>\n",
       "      <th>21</th>\n",
       "      <td>Perth</td>\n",
       "      <td>light rain shower</td>\n",
       "      <td>(2022-09-11 19:09:05, 2022-09-11 19:09:17)</td>\n",
       "      <td>2</td>\n",
       "    </tr>\n",
       "    <tr>\n",
       "      <th>22</th>\n",
       "      <td>Perth</td>\n",
       "      <td>heavy rain shower</td>\n",
       "      <td>(2022-09-11 19:09:05, 2022-09-11 19:09:17)</td>\n",
       "      <td>1</td>\n",
       "    </tr>\n",
       "    <tr>\n",
       "      <th>23</th>\n",
       "      <td>Perth</td>\n",
       "      <td>cloudy</td>\n",
       "      <td>(2022-09-11 19:09:04, 2022-09-11 19:09:16)</td>\n",
       "      <td>3</td>\n",
       "    </tr>\n",
       "    <tr>\n",
       "      <th>24</th>\n",
       "      <td>Perth</td>\n",
       "      <td>partly sunny</td>\n",
       "      <td>(2022-09-11 19:09:04, 2022-09-11 19:09:16)</td>\n",
       "      <td>2</td>\n",
       "    </tr>\n",
       "    <tr>\n",
       "      <th>25</th>\n",
       "      <td>Perth</td>\n",
       "      <td>light rain shower</td>\n",
       "      <td>(2022-09-11 19:09:04, 2022-09-11 19:09:16)</td>\n",
       "      <td>2</td>\n",
       "    </tr>\n",
       "    <tr>\n",
       "      <th>26</th>\n",
       "      <td>Perth</td>\n",
       "      <td>light rain shower</td>\n",
       "      <td>(2022-09-11 19:09:03, 2022-09-11 19:09:15)</td>\n",
       "      <td>3</td>\n",
       "    </tr>\n",
       "    <tr>\n",
       "      <th>27</th>\n",
       "      <td>Perth</td>\n",
       "      <td>cloudy</td>\n",
       "      <td>(2022-09-11 19:09:03, 2022-09-11 19:09:15)</td>\n",
       "      <td>3</td>\n",
       "    </tr>\n",
       "    <tr>\n",
       "      <th>28</th>\n",
       "      <td>Perth</td>\n",
       "      <td>partly sunny</td>\n",
       "      <td>(2022-09-11 19:09:03, 2022-09-11 19:09:15)</td>\n",
       "      <td>2</td>\n",
       "    </tr>\n",
       "    <tr>\n",
       "      <th>29</th>\n",
       "      <td>Perth</td>\n",
       "      <td>cloudy</td>\n",
       "      <td>(2022-09-11 19:09:02, 2022-09-11 19:09:14)</td>\n",
       "      <td>3</td>\n",
       "    </tr>\n",
       "  </tbody>\n",
       "</table>\n",
       "</div>"
      ],
      "text/plain": [
       "     City        WeatherText                                      window  \\\n",
       "0   Perth             cloudy  (2022-09-11 19:09:13, 2022-09-11 19:09:25)   \n",
       "1   Perth             cloudy  (2022-09-11 19:09:12, 2022-09-11 19:09:24)   \n",
       "2   Perth        rain shower  (2022-09-11 19:09:12, 2022-09-11 19:09:24)   \n",
       "3   Perth             cloudy  (2022-09-11 19:09:11, 2022-09-11 19:09:23)   \n",
       "4   Perth        rain shower  (2022-09-11 19:09:11, 2022-09-11 19:09:23)   \n",
       "5   Perth             cloudy  (2022-09-11 19:09:10, 2022-09-11 19:09:22)   \n",
       "6   Perth        rain shower  (2022-09-11 19:09:10, 2022-09-11 19:09:22)   \n",
       "7   Perth  heavy rain shower  (2022-09-11 19:09:10, 2022-09-11 19:09:22)   \n",
       "8   Perth             cloudy  (2022-09-11 19:09:09, 2022-09-11 19:09:21)   \n",
       "9   Perth  light rain shower  (2022-09-11 19:09:09, 2022-09-11 19:09:21)   \n",
       "10  Perth  heavy rain shower  (2022-09-11 19:09:09, 2022-09-11 19:09:21)   \n",
       "11  Perth             cloudy  (2022-09-11 19:09:08, 2022-09-11 19:09:20)   \n",
       "12  Perth  light rain shower  (2022-09-11 19:09:08, 2022-09-11 19:09:20)   \n",
       "13  Perth  heavy rain shower  (2022-09-11 19:09:08, 2022-09-11 19:09:20)   \n",
       "14  Perth             cloudy  (2022-09-11 19:09:07, 2022-09-11 19:09:19)   \n",
       "15  Perth  light rain shower  (2022-09-11 19:09:07, 2022-09-11 19:09:19)   \n",
       "16  Perth        rain shower  (2022-09-11 19:09:07, 2022-09-11 19:09:19)   \n",
       "17  Perth             cloudy  (2022-09-11 19:09:06, 2022-09-11 19:09:18)   \n",
       "18  Perth  light rain shower  (2022-09-11 19:09:06, 2022-09-11 19:09:18)   \n",
       "19  Perth  heavy rain shower  (2022-09-11 19:09:06, 2022-09-11 19:09:18)   \n",
       "20  Perth             cloudy  (2022-09-11 19:09:05, 2022-09-11 19:09:17)   \n",
       "21  Perth  light rain shower  (2022-09-11 19:09:05, 2022-09-11 19:09:17)   \n",
       "22  Perth  heavy rain shower  (2022-09-11 19:09:05, 2022-09-11 19:09:17)   \n",
       "23  Perth             cloudy  (2022-09-11 19:09:04, 2022-09-11 19:09:16)   \n",
       "24  Perth       partly sunny  (2022-09-11 19:09:04, 2022-09-11 19:09:16)   \n",
       "25  Perth  light rain shower  (2022-09-11 19:09:04, 2022-09-11 19:09:16)   \n",
       "26  Perth  light rain shower  (2022-09-11 19:09:03, 2022-09-11 19:09:15)   \n",
       "27  Perth             cloudy  (2022-09-11 19:09:03, 2022-09-11 19:09:15)   \n",
       "28  Perth       partly sunny  (2022-09-11 19:09:03, 2022-09-11 19:09:15)   \n",
       "29  Perth             cloudy  (2022-09-11 19:09:02, 2022-09-11 19:09:14)   \n",
       "\n",
       "    Count  \n",
       "0       1  \n",
       "1       1  \n",
       "2       1  \n",
       "3       2  \n",
       "4       1  \n",
       "5       2  \n",
       "6       1  \n",
       "7       1  \n",
       "8       2  \n",
       "9       1  \n",
       "10      1  \n",
       "11      2  \n",
       "12      2  \n",
       "13      1  \n",
       "14      2  \n",
       "15      2  \n",
       "16      1  \n",
       "17      3  \n",
       "18      2  \n",
       "19      1  \n",
       "20      3  \n",
       "21      2  \n",
       "22      1  \n",
       "23      3  \n",
       "24      2  \n",
       "25      2  \n",
       "26      3  \n",
       "27      3  \n",
       "28      2  \n",
       "29      3  "
      ]
     },
     "execution_count": 33,
     "metadata": {},
     "output_type": "execute_result"
    }
   ],
   "source": [
    "# Return the top 3 frequent weather text in each city and window frame. \n",
    "spark.sql('''\n",
    "    SELECT City, \n",
    "        WeatherText, \n",
    "        window, \n",
    "        Count\n",
    "    FROM (\n",
    "        SELECT *, \n",
    "            row_number() OVER (PARTITION BY City, window order BY Count desc) AS rn\n",
    "    FROM weather_query) temp\n",
    "    WHERE rn <= 3\n",
    "    ORDER BY window DESC, rn\n",
    "    LIMIT 30\n",
    "    ''').toPandas()"
   ]
  },
  {
   "cell_type": "code",
   "execution_count": 34,
   "metadata": {},
   "outputs": [],
   "source": [
    "spark.sql('''\n",
    "    SELECT City, \n",
    "        WeatherText, \n",
    "        window, \n",
    "        Count\n",
    "    FROM (\n",
    "        SELECT *, \n",
    "            row_number() OVER (PARTITION BY City, window order BY Count desc) AS rn\n",
    "    FROM weather_query) temp\n",
    "    WHERE rn <= 3\n",
    "    ORDER BY window DESC, rn\n",
    "    ''').toPandas().to_csv(os.path.join(output_location, \"weather_text.csv\"), index = False)"
   ]
  },
  {
   "cell_type": "code",
   "execution_count": null,
   "metadata": {},
   "outputs": [],
   "source": []
  }
 ],
 "metadata": {
  "kernelspec": {
   "display_name": "Python 3",
   "language": "python",
   "name": "python3"
  },
  "language_info": {
   "codemirror_mode": {
    "name": "ipython",
    "version": 3
   },
   "file_extension": ".py",
   "mimetype": "text/x-python",
   "name": "python",
   "nbconvert_exporter": "python",
   "pygments_lexer": "ipython3",
   "version": "3.8.2"
  }
 },
 "nbformat": 4,
 "nbformat_minor": 4
}
