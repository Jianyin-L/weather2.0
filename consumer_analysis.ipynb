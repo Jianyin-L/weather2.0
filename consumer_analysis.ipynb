{
 "cells": [
  {
   "cell_type": "code",
   "execution_count": 1,
   "metadata": {},
   "outputs": [],
   "source": [
    "import os\n",
    "os.environ['PYSPARK_SUBMIT_ARGS'] = '--packages org.apache.spark:spark-streaming-kafka-0-10_2.12:3.0.0,org.apache.spark:spark-sql-kafka-0-10_2.12:3.0.0 pyspark-shell'\n",
    "\n",
    "from pyspark.sql import SparkSession\n",
    "from pyspark.sql.functions import explode\n",
    "from pyspark.sql import functions as F\n",
    "from pyspark.sql.types import *\n",
    "from pyspark.sql.window import Window\n",
    "from time import sleep\n",
    "\n",
    "spark = SparkSession \\\n",
    "    .builder \\\n",
    "    .appName(\"Weather Analysis\") \\\n",
    "    .getOrCreate()"
   ]
  },
  {
   "cell_type": "code",
   "execution_count": 59,
   "metadata": {},
   "outputs": [],
   "source": [
    "time_window = \"12 seconds\"\n",
    "watermark = \"6 seconds\"\n",
    "output_location = os.path.join(os.getcwd(), \"result\")\n",
    "\n",
    "if not os.path.exists(output_location):\n",
    "    os.makedirs(output_location)"
   ]
  },
  {
   "cell_type": "code",
   "execution_count": 3,
   "metadata": {},
   "outputs": [],
   "source": [
    "topic = \"Perth\"\n",
    "df = spark \\\n",
    "    .readStream \\\n",
    "    .format(\"kafka\") \\\n",
    "    .option(\"kafka.bootstrap.servers\", \"127.0.0.1:9092\") \\\n",
    "    .option(\"subscribe\", topic) \\\n",
    "    .load()"
   ]
  },
  {
   "cell_type": "code",
   "execution_count": 4,
   "metadata": {},
   "outputs": [
    {
     "name": "stdout",
     "output_type": "stream",
     "text": [
      "root\n",
      " |-- key: binary (nullable = true)\n",
      " |-- value: binary (nullable = true)\n",
      " |-- topic: string (nullable = true)\n",
      " |-- partition: integer (nullable = true)\n",
      " |-- offset: long (nullable = true)\n",
      " |-- timestamp: timestamp (nullable = true)\n",
      " |-- timestampType: integer (nullable = true)\n",
      "\n"
     ]
    }
   ],
   "source": [
    "df.printSchema()"
   ]
  },
  {
   "cell_type": "code",
   "execution_count": null,
   "metadata": {},
   "outputs": [],
   "source": []
  },
  {
   "cell_type": "code",
   "execution_count": 5,
   "metadata": {},
   "outputs": [],
   "source": [
    "# Converting the key/value from the kafka data stream to string\n",
    "df = df.selectExpr(\"CAST(key AS STRING)\", \"CAST(value AS STRING)\")"
   ]
  },
  {
   "cell_type": "code",
   "execution_count": 6,
   "metadata": {},
   "outputs": [
    {
     "name": "stdout",
     "output_type": "stream",
     "text": [
      "root\n",
      " |-- key: string (nullable = true)\n",
      " |-- value: string (nullable = true)\n",
      "\n"
     ]
    }
   ],
   "source": [
    "df.printSchema()"
   ]
  },
  {
   "cell_type": "code",
   "execution_count": 7,
   "metadata": {},
   "outputs": [],
   "source": [
    "schema = StructType([\n",
    "    StructField(\"Time\", TimestampType(), True), \n",
    "    StructField(\"city\", StringType(), True), \n",
    "    StructField(\"WeatherText\", StringType(), True),\n",
    "    StructField(\"Temperature\", MapType(StringType(), MapType(StringType(), StringType())), True)        \n",
    "])"
   ]
  },
  {
   "cell_type": "code",
   "execution_count": 8,
   "metadata": {},
   "outputs": [],
   "source": [
    "df1=df.select(F.from_json(F.col(\"value\").cast(\"string\"), schema).alias('parsed_value'))"
   ]
  },
  {
   "cell_type": "code",
   "execution_count": 9,
   "metadata": {},
   "outputs": [
    {
     "name": "stdout",
     "output_type": "stream",
     "text": [
      "root\n",
      " |-- parsed_value: struct (nullable = true)\n",
      " |    |-- Time: timestamp (nullable = true)\n",
      " |    |-- city: string (nullable = true)\n",
      " |    |-- WeatherText: string (nullable = true)\n",
      " |    |-- Temperature: map (nullable = true)\n",
      " |    |    |-- key: string\n",
      " |    |    |-- value: map (valueContainsNull = true)\n",
      " |    |    |    |-- key: string\n",
      " |    |    |    |-- value: string (valueContainsNull = true)\n",
      "\n"
     ]
    }
   ],
   "source": [
    "df1.printSchema()"
   ]
  },
  {
   "cell_type": "code",
   "execution_count": 10,
   "metadata": {},
   "outputs": [],
   "source": [
    "df2 = df1.select(\n",
    "    F.col(\"parsed_value.Time\").alias(\"Time\"),\n",
    "    F.col(\"parsed_value.city\").alias(\"City\"),\n",
    "    F.col(\"parsed_value.WeatherText\").alias(\"WeatherText\"),\n",
    "    explode(\"parsed_value.Temperature\")\n",
    ")"
   ]
  },
  {
   "cell_type": "code",
   "execution_count": 11,
   "metadata": {},
   "outputs": [
    {
     "name": "stdout",
     "output_type": "stream",
     "text": [
      "root\n",
      " |-- Time: timestamp (nullable = true)\n",
      " |-- City: string (nullable = true)\n",
      " |-- WeatherText: string (nullable = true)\n",
      " |-- key: string (nullable = false)\n",
      " |-- value: map (nullable = true)\n",
      " |    |-- key: string\n",
      " |    |-- value: string (valueContainsNull = true)\n",
      "\n"
     ]
    }
   ],
   "source": [
    "df2.printSchema()"
   ]
  },
  {
   "cell_type": "code",
   "execution_count": null,
   "metadata": {},
   "outputs": [],
   "source": []
  },
  {
   "cell_type": "code",
   "execution_count": 12,
   "metadata": {},
   "outputs": [],
   "source": [
    "# We are only looking at Celsius here\n",
    "df3 = df2.filter(df2.key == \"Metric\")"
   ]
  },
  {
   "cell_type": "code",
   "execution_count": null,
   "metadata": {},
   "outputs": [],
   "source": []
  },
  {
   "cell_type": "code",
   "execution_count": 13,
   "metadata": {},
   "outputs": [],
   "source": [
    "df4 = df3.select(\"Time\", \n",
    "                 \"City\",\n",
    "                 \"WeatherText\",\n",
    "                 explode(\"value\")\n",
    ")"
   ]
  },
  {
   "cell_type": "code",
   "execution_count": 14,
   "metadata": {},
   "outputs": [
    {
     "name": "stdout",
     "output_type": "stream",
     "text": [
      "root\n",
      " |-- Time: timestamp (nullable = true)\n",
      " |-- City: string (nullable = true)\n",
      " |-- WeatherText: string (nullable = true)\n",
      " |-- key: string (nullable = false)\n",
      " |-- value: string (nullable = true)\n",
      "\n"
     ]
    }
   ],
   "source": [
    "df4.printSchema()"
   ]
  },
  {
   "cell_type": "code",
   "execution_count": 15,
   "metadata": {},
   "outputs": [],
   "source": [
    "df5 = df4.filter(df4.key == \"Value\")"
   ]
  },
  {
   "cell_type": "code",
   "execution_count": 16,
   "metadata": {},
   "outputs": [],
   "source": [
    "df6 = df5.select(\"Time\", \n",
    "                 \"City\", \n",
    "                 \"WeatherText\", \n",
    "                 F.col(\"value\").alias(\"TemperatureC\"))"
   ]
  },
  {
   "cell_type": "code",
   "execution_count": 17,
   "metadata": {},
   "outputs": [],
   "source": [
    "df_formatted = df6.withColumn(\"TemperatureC\", df6.TemperatureC.cast(DoubleType()))"
   ]
  },
  {
   "cell_type": "code",
   "execution_count": 18,
   "metadata": {},
   "outputs": [
    {
     "name": "stdout",
     "output_type": "stream",
     "text": [
      "root\n",
      " |-- Time: timestamp (nullable = true)\n",
      " |-- City: string (nullable = true)\n",
      " |-- WeatherText: string (nullable = true)\n",
      " |-- TemperatureC: double (nullable = true)\n",
      "\n"
     ]
    }
   ],
   "source": [
    "df_formatted.printSchema()"
   ]
  },
  {
   "cell_type": "code",
   "execution_count": null,
   "metadata": {},
   "outputs": [],
   "source": []
  },
  {
   "cell_type": "code",
   "execution_count": 19,
   "metadata": {},
   "outputs": [],
   "source": [
    "df_formatted2 = df_formatted.select(\"Time\",\n",
    "                                    F.trim(F.initcap(F.col(\"City\"))).alias(\"City\"), \n",
    "                                    F.trim(F.lower(F.col(\"WeatherText\"))).alias(\"WeatherText\"),\n",
    "                                    F.col(\"TemperatureC\"))"
   ]
  },
  {
   "cell_type": "code",
   "execution_count": 20,
   "metadata": {},
   "outputs": [
    {
     "name": "stdout",
     "output_type": "stream",
     "text": [
      "root\n",
      " |-- Time: timestamp (nullable = true)\n",
      " |-- City: string (nullable = true)\n",
      " |-- WeatherText: string (nullable = true)\n",
      " |-- TemperatureC: double (nullable = true)\n",
      "\n"
     ]
    }
   ],
   "source": [
    "df_formatted2.printSchema()"
   ]
  },
  {
   "cell_type": "code",
   "execution_count": null,
   "metadata": {},
   "outputs": [],
   "source": []
  },
  {
   "cell_type": "code",
   "execution_count": null,
   "metadata": {},
   "outputs": [],
   "source": []
  },
  {
   "cell_type": "code",
   "execution_count": null,
   "metadata": {},
   "outputs": [],
   "source": []
  },
  {
   "cell_type": "code",
   "execution_count": null,
   "metadata": {},
   "outputs": [],
   "source": []
  },
  {
   "cell_type": "code",
   "execution_count": 21,
   "metadata": {},
   "outputs": [],
   "source": [
    "Avg_temp = df_formatted2\\\n",
    "    .withWatermark(\"Time\", watermark)\\\n",
    "    .groupBy(\"City\", \n",
    "             F.window(df_formatted2.Time, time_window, \"1 second\"))\\\n",
    "    .agg(F.avg(\"TemperatureC\").alias(\"AvgTempC\"))\\\n",
    "    .sort(F.col(\"window\").desc())"
   ]
  },
  {
   "cell_type": "code",
   "execution_count": 22,
   "metadata": {},
   "outputs": [
    {
     "name": "stdout",
     "output_type": "stream",
     "text": [
      "root\n",
      " |-- City: string (nullable = true)\n",
      " |-- window: struct (nullable = true)\n",
      " |    |-- start: timestamp (nullable = true)\n",
      " |    |-- end: timestamp (nullable = true)\n",
      " |-- AvgTempC: double (nullable = true)\n",
      "\n"
     ]
    }
   ],
   "source": [
    "Avg_temp.printSchema()"
   ]
  },
  {
   "cell_type": "code",
   "execution_count": 23,
   "metadata": {},
   "outputs": [],
   "source": [
    "Avg_temp = Avg_temp.withColumn(\"AvgTempC\", F.round(Avg_temp[\"AvgTempC\"], 2))"
   ]
  },
  {
   "cell_type": "code",
   "execution_count": 24,
   "metadata": {},
   "outputs": [],
   "source": [
    "# query = Avg_temp \\\n",
    "#     .writeStream \\\n",
    "#     .outputMode(\"complete\") \\\n",
    "#     .format(\"console\") \\\n",
    "#     .trigger(processingTime='12 seconds') \\\n",
    "#     .option(\"truncate\", False) \\\n",
    "#     .start()"
   ]
  },
  {
   "cell_type": "code",
   "execution_count": 25,
   "metadata": {},
   "outputs": [],
   "source": [
    "# query.stop()"
   ]
  },
  {
   "cell_type": "code",
   "execution_count": null,
   "metadata": {},
   "outputs": [],
   "source": []
  },
  {
   "cell_type": "code",
   "execution_count": 26,
   "metadata": {},
   "outputs": [],
   "source": [
    "Weather_text = df_formatted2\\\n",
    "    .withWatermark(\"Time\", watermark)\\\n",
    "    .groupBy(\"City\", \n",
    "             \"WeatherText\", \n",
    "             F.window(df_formatted2.Time, time_window, \"1 second\")).agg(\n",
    "    F.count(\"WeatherText\").alias(\"Count\"))"
   ]
  },
  {
   "cell_type": "code",
   "execution_count": 27,
   "metadata": {},
   "outputs": [],
   "source": [
    "Weather_text = Weather_text.sort(\n",
    "    F.col(\"window\").desc(), \n",
    "    F.col(\"Count\").desc())"
   ]
  },
  {
   "cell_type": "code",
   "execution_count": 28,
   "metadata": {},
   "outputs": [],
   "source": [
    "# query = Weather_text \\\n",
    "#     .writeStream \\\n",
    "#     .outputMode(\"complete\") \\\n",
    "#     .format(\"console\") \\\n",
    "#     .trigger(processingTime='12 seconds') \\\n",
    "#     .option(\"truncate\", False) \\\n",
    "#     .start()"
   ]
  },
  {
   "cell_type": "code",
   "execution_count": 29,
   "metadata": {},
   "outputs": [],
   "source": [
    "# query.stop()"
   ]
  },
  {
   "cell_type": "code",
   "execution_count": 30,
   "metadata": {},
   "outputs": [
    {
     "name": "stdout",
     "output_type": "stream",
     "text": [
      "root\n",
      " |-- City: string (nullable = true)\n",
      " |-- WeatherText: string (nullable = true)\n",
      " |-- window: struct (nullable = true)\n",
      " |    |-- start: timestamp (nullable = true)\n",
      " |    |-- end: timestamp (nullable = true)\n",
      " |-- Count: long (nullable = false)\n",
      "\n"
     ]
    }
   ],
   "source": [
    "Weather_text.printSchema()"
   ]
  },
  {
   "cell_type": "markdown",
   "metadata": {},
   "source": [
    "## Output"
   ]
  },
  {
   "cell_type": "code",
   "execution_count": 54,
   "metadata": {},
   "outputs": [
    {
     "name": "stdout",
     "output_type": "stream",
     "text": [
      "Sleeping...\n",
      "Waking Up...\n"
     ]
    }
   ],
   "source": [
    "query1 = Avg_temp \\\n",
    "    .writeStream \\\n",
    "    .outputMode(\"complete\") \\\n",
    "    .format(\"memory\") \\\n",
    "    .queryName(\"temp_query\") \\\n",
    "    .trigger(processingTime='12 seconds') \\\n",
    "    .start()\n",
    "\n",
    "print(\"Sleeping...\")\n",
    "sleep(60)\n",
    "print(\"Waking Up...\")\n",
    "\n",
    "query1.stop()"
   ]
  },
  {
   "cell_type": "code",
   "execution_count": 55,
   "metadata": {},
   "outputs": [
    {
     "data": {
      "text/html": [
       "<div>\n",
       "<style scoped>\n",
       "    .dataframe tbody tr th:only-of-type {\n",
       "        vertical-align: middle;\n",
       "    }\n",
       "\n",
       "    .dataframe tbody tr th {\n",
       "        vertical-align: top;\n",
       "    }\n",
       "\n",
       "    .dataframe thead th {\n",
       "        text-align: right;\n",
       "    }\n",
       "</style>\n",
       "<table border=\"1\" class=\"dataframe\">\n",
       "  <thead>\n",
       "    <tr style=\"text-align: right;\">\n",
       "      <th></th>\n",
       "      <th>City</th>\n",
       "      <th>window</th>\n",
       "      <th>AvgTempC</th>\n",
       "    </tr>\n",
       "  </thead>\n",
       "  <tbody>\n",
       "    <tr>\n",
       "      <th>0</th>\n",
       "      <td>Perth</td>\n",
       "      <td>(2022-09-11 14:39:11, 2022-09-11 14:39:23)</td>\n",
       "      <td>11.10</td>\n",
       "    </tr>\n",
       "    <tr>\n",
       "      <th>1</th>\n",
       "      <td>Perth</td>\n",
       "      <td>(2022-09-11 14:39:10, 2022-09-11 14:39:22)</td>\n",
       "      <td>11.10</td>\n",
       "    </tr>\n",
       "    <tr>\n",
       "      <th>2</th>\n",
       "      <td>Perth</td>\n",
       "      <td>(2022-09-11 14:39:09, 2022-09-11 14:39:21)</td>\n",
       "      <td>11.47</td>\n",
       "    </tr>\n",
       "    <tr>\n",
       "      <th>3</th>\n",
       "      <td>Perth</td>\n",
       "      <td>(2022-09-11 14:39:08, 2022-09-11 14:39:20)</td>\n",
       "      <td>11.65</td>\n",
       "    </tr>\n",
       "    <tr>\n",
       "      <th>4</th>\n",
       "      <td>Perth</td>\n",
       "      <td>(2022-09-11 14:39:07, 2022-09-11 14:39:19)</td>\n",
       "      <td>11.54</td>\n",
       "    </tr>\n",
       "    <tr>\n",
       "      <th>5</th>\n",
       "      <td>Perth</td>\n",
       "      <td>(2022-09-11 14:39:06, 2022-09-11 14:39:18)</td>\n",
       "      <td>11.47</td>\n",
       "    </tr>\n",
       "    <tr>\n",
       "      <th>6</th>\n",
       "      <td>Perth</td>\n",
       "      <td>(2022-09-11 14:39:05, 2022-09-11 14:39:17)</td>\n",
       "      <td>11.66</td>\n",
       "    </tr>\n",
       "    <tr>\n",
       "      <th>7</th>\n",
       "      <td>Perth</td>\n",
       "      <td>(2022-09-11 14:39:04, 2022-09-11 14:39:16)</td>\n",
       "      <td>12.08</td>\n",
       "    </tr>\n",
       "    <tr>\n",
       "      <th>8</th>\n",
       "      <td>Perth</td>\n",
       "      <td>(2022-09-11 14:39:03, 2022-09-11 14:39:15)</td>\n",
       "      <td>12.52</td>\n",
       "    </tr>\n",
       "    <tr>\n",
       "      <th>9</th>\n",
       "      <td>Perth</td>\n",
       "      <td>(2022-09-11 14:39:02, 2022-09-11 14:39:14)</td>\n",
       "      <td>12.77</td>\n",
       "    </tr>\n",
       "  </tbody>\n",
       "</table>\n",
       "</div>"
      ],
      "text/plain": [
       "    City                                      window  AvgTempC\n",
       "0  Perth  (2022-09-11 14:39:11, 2022-09-11 14:39:23)     11.10\n",
       "1  Perth  (2022-09-11 14:39:10, 2022-09-11 14:39:22)     11.10\n",
       "2  Perth  (2022-09-11 14:39:09, 2022-09-11 14:39:21)     11.47\n",
       "3  Perth  (2022-09-11 14:39:08, 2022-09-11 14:39:20)     11.65\n",
       "4  Perth  (2022-09-11 14:39:07, 2022-09-11 14:39:19)     11.54\n",
       "5  Perth  (2022-09-11 14:39:06, 2022-09-11 14:39:18)     11.47\n",
       "6  Perth  (2022-09-11 14:39:05, 2022-09-11 14:39:17)     11.66\n",
       "7  Perth  (2022-09-11 14:39:04, 2022-09-11 14:39:16)     12.08\n",
       "8  Perth  (2022-09-11 14:39:03, 2022-09-11 14:39:15)     12.52\n",
       "9  Perth  (2022-09-11 14:39:02, 2022-09-11 14:39:14)     12.77"
      ]
     },
     "execution_count": 55,
     "metadata": {},
     "output_type": "execute_result"
    }
   ],
   "source": [
    "spark.sql(\"SELECT * FROM temp_query limit 10\").toPandas().head(10)"
   ]
  },
  {
   "cell_type": "code",
   "execution_count": 61,
   "metadata": {},
   "outputs": [],
   "source": [
    "spark.sql(\"SELECT * FROM temp_query\").toPandas().to_csv(os.path.join(output_location, \"avg_temp.csv\"), index = False)"
   ]
  },
  {
   "cell_type": "code",
   "execution_count": null,
   "metadata": {},
   "outputs": [],
   "source": []
  },
  {
   "cell_type": "code",
   "execution_count": 50,
   "metadata": {},
   "outputs": [
    {
     "name": "stdout",
     "output_type": "stream",
     "text": [
      "Sleeping...\n",
      "Waking Up...\n"
     ]
    }
   ],
   "source": [
    "query2 = Weather_text \\\n",
    "    .writeStream \\\n",
    "    .outputMode(\"complete\") \\\n",
    "    .format(\"memory\") \\\n",
    "    .queryName(\"weather_query\") \\\n",
    "    .trigger(processingTime='12 seconds') \\\n",
    "    .start()\n",
    "\n",
    "print(\"Sleeping...\")\n",
    "sleep(60)\n",
    "print(\"Waking Up...\")\n",
    "    \n",
    "query2.stop()"
   ]
  },
  {
   "cell_type": "code",
   "execution_count": 53,
   "metadata": {},
   "outputs": [
    {
     "data": {
      "text/html": [
       "<div>\n",
       "<style scoped>\n",
       "    .dataframe tbody tr th:only-of-type {\n",
       "        vertical-align: middle;\n",
       "    }\n",
       "\n",
       "    .dataframe tbody tr th {\n",
       "        vertical-align: top;\n",
       "    }\n",
       "\n",
       "    .dataframe thead th {\n",
       "        text-align: right;\n",
       "    }\n",
       "</style>\n",
       "<table border=\"1\" class=\"dataframe\">\n",
       "  <thead>\n",
       "    <tr style=\"text-align: right;\">\n",
       "      <th></th>\n",
       "      <th>City</th>\n",
       "      <th>WeatherText</th>\n",
       "      <th>window</th>\n",
       "      <th>Count</th>\n",
       "    </tr>\n",
       "  </thead>\n",
       "  <tbody>\n",
       "    <tr>\n",
       "      <th>0</th>\n",
       "      <td>Perth</td>\n",
       "      <td>light rain shower</td>\n",
       "      <td>(2022-09-11 14:36:22, 2022-09-11 14:36:34)</td>\n",
       "      <td>1</td>\n",
       "    </tr>\n",
       "    <tr>\n",
       "      <th>1</th>\n",
       "      <td>Perth</td>\n",
       "      <td>partly sunny</td>\n",
       "      <td>(2022-09-11 14:36:21, 2022-09-11 14:36:33)</td>\n",
       "      <td>1</td>\n",
       "    </tr>\n",
       "    <tr>\n",
       "      <th>2</th>\n",
       "      <td>Perth</td>\n",
       "      <td>light rain shower</td>\n",
       "      <td>(2022-09-11 14:36:21, 2022-09-11 14:36:33)</td>\n",
       "      <td>1</td>\n",
       "    </tr>\n",
       "    <tr>\n",
       "      <th>3</th>\n",
       "      <td>Perth</td>\n",
       "      <td>cloudy</td>\n",
       "      <td>(2022-09-11 14:36:20, 2022-09-11 14:36:32)</td>\n",
       "      <td>1</td>\n",
       "    </tr>\n",
       "    <tr>\n",
       "      <th>4</th>\n",
       "      <td>Perth</td>\n",
       "      <td>light rain shower</td>\n",
       "      <td>(2022-09-11 14:36:20, 2022-09-11 14:36:32)</td>\n",
       "      <td>1</td>\n",
       "    </tr>\n",
       "    <tr>\n",
       "      <th>5</th>\n",
       "      <td>Perth</td>\n",
       "      <td>partly sunny</td>\n",
       "      <td>(2022-09-11 14:36:20, 2022-09-11 14:36:32)</td>\n",
       "      <td>1</td>\n",
       "    </tr>\n",
       "    <tr>\n",
       "      <th>6</th>\n",
       "      <td>Perth</td>\n",
       "      <td>light rain shower</td>\n",
       "      <td>(2022-09-11 14:36:19, 2022-09-11 14:36:31)</td>\n",
       "      <td>1</td>\n",
       "    </tr>\n",
       "    <tr>\n",
       "      <th>7</th>\n",
       "      <td>Perth</td>\n",
       "      <td>mostly cloudy</td>\n",
       "      <td>(2022-09-11 14:36:19, 2022-09-11 14:36:31)</td>\n",
       "      <td>1</td>\n",
       "    </tr>\n",
       "    <tr>\n",
       "      <th>8</th>\n",
       "      <td>Perth</td>\n",
       "      <td>cloudy</td>\n",
       "      <td>(2022-09-11 14:36:19, 2022-09-11 14:36:31)</td>\n",
       "      <td>1</td>\n",
       "    </tr>\n",
       "    <tr>\n",
       "      <th>9</th>\n",
       "      <td>Perth</td>\n",
       "      <td>partly sunny</td>\n",
       "      <td>(2022-09-11 14:36:18, 2022-09-11 14:36:30)</td>\n",
       "      <td>2</td>\n",
       "    </tr>\n",
       "    <tr>\n",
       "      <th>10</th>\n",
       "      <td>Perth</td>\n",
       "      <td>light rain shower</td>\n",
       "      <td>(2022-09-11 14:36:18, 2022-09-11 14:36:30)</td>\n",
       "      <td>1</td>\n",
       "    </tr>\n",
       "    <tr>\n",
       "      <th>11</th>\n",
       "      <td>Perth</td>\n",
       "      <td>mostly cloudy</td>\n",
       "      <td>(2022-09-11 14:36:18, 2022-09-11 14:36:30)</td>\n",
       "      <td>1</td>\n",
       "    </tr>\n",
       "    <tr>\n",
       "      <th>12</th>\n",
       "      <td>Perth</td>\n",
       "      <td>partly sunny</td>\n",
       "      <td>(2022-09-11 14:36:17, 2022-09-11 14:36:29)</td>\n",
       "      <td>2</td>\n",
       "    </tr>\n",
       "    <tr>\n",
       "      <th>13</th>\n",
       "      <td>Perth</td>\n",
       "      <td>light rain shower</td>\n",
       "      <td>(2022-09-11 14:36:17, 2022-09-11 14:36:29)</td>\n",
       "      <td>2</td>\n",
       "    </tr>\n",
       "    <tr>\n",
       "      <th>14</th>\n",
       "      <td>Perth</td>\n",
       "      <td>mostly cloudy</td>\n",
       "      <td>(2022-09-11 14:36:17, 2022-09-11 14:36:29)</td>\n",
       "      <td>1</td>\n",
       "    </tr>\n",
       "    <tr>\n",
       "      <th>15</th>\n",
       "      <td>Perth</td>\n",
       "      <td>light rain shower</td>\n",
       "      <td>(2022-09-11 14:36:16, 2022-09-11 14:36:28)</td>\n",
       "      <td>2</td>\n",
       "    </tr>\n",
       "    <tr>\n",
       "      <th>16</th>\n",
       "      <td>Perth</td>\n",
       "      <td>partly sunny</td>\n",
       "      <td>(2022-09-11 14:36:16, 2022-09-11 14:36:28)</td>\n",
       "      <td>2</td>\n",
       "    </tr>\n",
       "    <tr>\n",
       "      <th>17</th>\n",
       "      <td>Perth</td>\n",
       "      <td>thundershower</td>\n",
       "      <td>(2022-09-11 14:36:16, 2022-09-11 14:36:28)</td>\n",
       "      <td>1</td>\n",
       "    </tr>\n",
       "    <tr>\n",
       "      <th>18</th>\n",
       "      <td>Perth</td>\n",
       "      <td>cloudy</td>\n",
       "      <td>(2022-09-11 14:36:15, 2022-09-11 14:36:27)</td>\n",
       "      <td>2</td>\n",
       "    </tr>\n",
       "    <tr>\n",
       "      <th>19</th>\n",
       "      <td>Perth</td>\n",
       "      <td>light rain shower</td>\n",
       "      <td>(2022-09-11 14:36:15, 2022-09-11 14:36:27)</td>\n",
       "      <td>2</td>\n",
       "    </tr>\n",
       "    <tr>\n",
       "      <th>20</th>\n",
       "      <td>Perth</td>\n",
       "      <td>partly sunny</td>\n",
       "      <td>(2022-09-11 14:36:15, 2022-09-11 14:36:27)</td>\n",
       "      <td>2</td>\n",
       "    </tr>\n",
       "    <tr>\n",
       "      <th>21</th>\n",
       "      <td>Perth</td>\n",
       "      <td>light rain shower</td>\n",
       "      <td>(2022-09-11 14:36:14, 2022-09-11 14:36:26)</td>\n",
       "      <td>3</td>\n",
       "    </tr>\n",
       "    <tr>\n",
       "      <th>22</th>\n",
       "      <td>Perth</td>\n",
       "      <td>partly sunny</td>\n",
       "      <td>(2022-09-11 14:36:14, 2022-09-11 14:36:26)</td>\n",
       "      <td>2</td>\n",
       "    </tr>\n",
       "    <tr>\n",
       "      <th>23</th>\n",
       "      <td>Perth</td>\n",
       "      <td>cloudy</td>\n",
       "      <td>(2022-09-11 14:36:14, 2022-09-11 14:36:26)</td>\n",
       "      <td>2</td>\n",
       "    </tr>\n",
       "    <tr>\n",
       "      <th>24</th>\n",
       "      <td>Perth</td>\n",
       "      <td>light rain shower</td>\n",
       "      <td>(2022-09-11 14:36:13, 2022-09-11 14:36:25)</td>\n",
       "      <td>4</td>\n",
       "    </tr>\n",
       "    <tr>\n",
       "      <th>25</th>\n",
       "      <td>Perth</td>\n",
       "      <td>partly sunny</td>\n",
       "      <td>(2022-09-11 14:36:13, 2022-09-11 14:36:25)</td>\n",
       "      <td>2</td>\n",
       "    </tr>\n",
       "    <tr>\n",
       "      <th>26</th>\n",
       "      <td>Perth</td>\n",
       "      <td>cloudy</td>\n",
       "      <td>(2022-09-11 14:36:13, 2022-09-11 14:36:25)</td>\n",
       "      <td>2</td>\n",
       "    </tr>\n",
       "    <tr>\n",
       "      <th>27</th>\n",
       "      <td>Perth</td>\n",
       "      <td>light rain shower</td>\n",
       "      <td>(2022-09-11 14:36:12, 2022-09-11 14:36:24)</td>\n",
       "      <td>4</td>\n",
       "    </tr>\n",
       "    <tr>\n",
       "      <th>28</th>\n",
       "      <td>Perth</td>\n",
       "      <td>cloudy</td>\n",
       "      <td>(2022-09-11 14:36:12, 2022-09-11 14:36:24)</td>\n",
       "      <td>2</td>\n",
       "    </tr>\n",
       "    <tr>\n",
       "      <th>29</th>\n",
       "      <td>Perth</td>\n",
       "      <td>partly sunny</td>\n",
       "      <td>(2022-09-11 14:36:12, 2022-09-11 14:36:24)</td>\n",
       "      <td>2</td>\n",
       "    </tr>\n",
       "  </tbody>\n",
       "</table>\n",
       "</div>"
      ],
      "text/plain": [
       "     City        WeatherText                                      window  \\\n",
       "0   Perth  light rain shower  (2022-09-11 14:36:22, 2022-09-11 14:36:34)   \n",
       "1   Perth       partly sunny  (2022-09-11 14:36:21, 2022-09-11 14:36:33)   \n",
       "2   Perth  light rain shower  (2022-09-11 14:36:21, 2022-09-11 14:36:33)   \n",
       "3   Perth             cloudy  (2022-09-11 14:36:20, 2022-09-11 14:36:32)   \n",
       "4   Perth  light rain shower  (2022-09-11 14:36:20, 2022-09-11 14:36:32)   \n",
       "5   Perth       partly sunny  (2022-09-11 14:36:20, 2022-09-11 14:36:32)   \n",
       "6   Perth  light rain shower  (2022-09-11 14:36:19, 2022-09-11 14:36:31)   \n",
       "7   Perth      mostly cloudy  (2022-09-11 14:36:19, 2022-09-11 14:36:31)   \n",
       "8   Perth             cloudy  (2022-09-11 14:36:19, 2022-09-11 14:36:31)   \n",
       "9   Perth       partly sunny  (2022-09-11 14:36:18, 2022-09-11 14:36:30)   \n",
       "10  Perth  light rain shower  (2022-09-11 14:36:18, 2022-09-11 14:36:30)   \n",
       "11  Perth      mostly cloudy  (2022-09-11 14:36:18, 2022-09-11 14:36:30)   \n",
       "12  Perth       partly sunny  (2022-09-11 14:36:17, 2022-09-11 14:36:29)   \n",
       "13  Perth  light rain shower  (2022-09-11 14:36:17, 2022-09-11 14:36:29)   \n",
       "14  Perth      mostly cloudy  (2022-09-11 14:36:17, 2022-09-11 14:36:29)   \n",
       "15  Perth  light rain shower  (2022-09-11 14:36:16, 2022-09-11 14:36:28)   \n",
       "16  Perth       partly sunny  (2022-09-11 14:36:16, 2022-09-11 14:36:28)   \n",
       "17  Perth      thundershower  (2022-09-11 14:36:16, 2022-09-11 14:36:28)   \n",
       "18  Perth             cloudy  (2022-09-11 14:36:15, 2022-09-11 14:36:27)   \n",
       "19  Perth  light rain shower  (2022-09-11 14:36:15, 2022-09-11 14:36:27)   \n",
       "20  Perth       partly sunny  (2022-09-11 14:36:15, 2022-09-11 14:36:27)   \n",
       "21  Perth  light rain shower  (2022-09-11 14:36:14, 2022-09-11 14:36:26)   \n",
       "22  Perth       partly sunny  (2022-09-11 14:36:14, 2022-09-11 14:36:26)   \n",
       "23  Perth             cloudy  (2022-09-11 14:36:14, 2022-09-11 14:36:26)   \n",
       "24  Perth  light rain shower  (2022-09-11 14:36:13, 2022-09-11 14:36:25)   \n",
       "25  Perth       partly sunny  (2022-09-11 14:36:13, 2022-09-11 14:36:25)   \n",
       "26  Perth             cloudy  (2022-09-11 14:36:13, 2022-09-11 14:36:25)   \n",
       "27  Perth  light rain shower  (2022-09-11 14:36:12, 2022-09-11 14:36:24)   \n",
       "28  Perth             cloudy  (2022-09-11 14:36:12, 2022-09-11 14:36:24)   \n",
       "29  Perth       partly sunny  (2022-09-11 14:36:12, 2022-09-11 14:36:24)   \n",
       "\n",
       "    Count  \n",
       "0       1  \n",
       "1       1  \n",
       "2       1  \n",
       "3       1  \n",
       "4       1  \n",
       "5       1  \n",
       "6       1  \n",
       "7       1  \n",
       "8       1  \n",
       "9       2  \n",
       "10      1  \n",
       "11      1  \n",
       "12      2  \n",
       "13      2  \n",
       "14      1  \n",
       "15      2  \n",
       "16      2  \n",
       "17      1  \n",
       "18      2  \n",
       "19      2  \n",
       "20      2  \n",
       "21      3  \n",
       "22      2  \n",
       "23      2  \n",
       "24      4  \n",
       "25      2  \n",
       "26      2  \n",
       "27      4  \n",
       "28      2  \n",
       "29      2  "
      ]
     },
     "execution_count": 53,
     "metadata": {},
     "output_type": "execute_result"
    }
   ],
   "source": [
    "spark.sql('''\n",
    "    SELECT City, \n",
    "        WeatherText, \n",
    "        window, \n",
    "        Count\n",
    "    FROM (\n",
    "        SELECT *, \n",
    "            row_number() OVER (PARTITION BY City, window order BY Count desc) AS rn\n",
    "    FROM weather_query) temp\n",
    "    WHERE rn <= 3\n",
    "    ORDER BY window DESC, rn\n",
    "    LIMIT 30\n",
    "    ''').toPandas()"
   ]
  },
  {
   "cell_type": "code",
   "execution_count": 60,
   "metadata": {},
   "outputs": [],
   "source": [
    "spark.sql('''\n",
    "    SELECT City, \n",
    "        WeatherText, \n",
    "        window, \n",
    "        Count\n",
    "    FROM (\n",
    "        SELECT *, \n",
    "            row_number() OVER (PARTITION BY City, window order BY Count desc) AS rn\n",
    "    FROM weather_query) temp\n",
    "    WHERE rn <= 3\n",
    "    ORDER BY window DESC, rn\n",
    "    ''').toPandas().to_csv(os.path.join(output_location, \"weather_text.csv\"), index = False)"
   ]
  },
  {
   "cell_type": "code",
   "execution_count": null,
   "metadata": {},
   "outputs": [],
   "source": []
  },
  {
   "cell_type": "code",
   "execution_count": null,
   "metadata": {},
   "outputs": [],
   "source": []
  },
  {
   "cell_type": "code",
   "execution_count": null,
   "metadata": {},
   "outputs": [],
   "source": []
  }
 ],
 "metadata": {
  "kernelspec": {
   "display_name": "Python 3",
   "language": "python",
   "name": "python3"
  },
  "language_info": {
   "codemirror_mode": {
    "name": "ipython",
    "version": 3
   },
   "file_extension": ".py",
   "mimetype": "text/x-python",
   "name": "python",
   "nbconvert_exporter": "python",
   "pygments_lexer": "ipython3",
   "version": "3.8.2"
  }
 },
 "nbformat": 4,
 "nbformat_minor": 4
}
